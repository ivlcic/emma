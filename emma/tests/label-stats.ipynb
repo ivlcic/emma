{
 "cells": [
  {
   "cell_type": "code",
   "id": "initial_id",
   "metadata": {
    "collapsed": true,
    "ExecuteTime": {
     "end_time": "2024-08-05T10:23:44.891306Z",
     "start_time": "2024-08-05T10:23:43.312383Z"
    }
   },
   "source": [
    "!pip install numpy pandas matplotlib pyarrow\n",
    "\n",
    "import os\n",
    "import numpy as np\n",
    "import pandas as pd\n",
    "import matplotlib.pyplot as plt"
   ],
   "outputs": [
    {
     "name": "stdout",
     "output_type": "stream",
     "text": [
      "Requirement already satisfied: numpy in /home/nikola/projects/emma/.venv/lib/python3.11/site-packages (1.26.3)\r\n",
      "Requirement already satisfied: pandas in /home/nikola/projects/emma/.venv/lib/python3.11/site-packages (2.2.0)\r\n",
      "Requirement already satisfied: matplotlib in /home/nikola/projects/emma/.venv/lib/python3.11/site-packages (3.8.2)\r\n",
      "Requirement already satisfied: pyarrow in /home/nikola/projects/emma/.venv/lib/python3.11/site-packages (16.1.0)\r\n",
      "Requirement already satisfied: python-dateutil>=2.8.2 in /home/nikola/projects/emma/.venv/lib/python3.11/site-packages (from pandas) (2.8.2)\r\n",
      "Requirement already satisfied: pytz>=2020.1 in /home/nikola/projects/emma/.venv/lib/python3.11/site-packages (from pandas) (2023.4)\r\n",
      "Requirement already satisfied: tzdata>=2022.7 in /home/nikola/projects/emma/.venv/lib/python3.11/site-packages (from pandas) (2023.4)\r\n",
      "Requirement already satisfied: contourpy>=1.0.1 in /home/nikola/projects/emma/.venv/lib/python3.11/site-packages (from matplotlib) (1.2.0)\r\n",
      "Requirement already satisfied: cycler>=0.10 in /home/nikola/projects/emma/.venv/lib/python3.11/site-packages (from matplotlib) (0.12.1)\r\n",
      "Requirement already satisfied: fonttools>=4.22.0 in /home/nikola/projects/emma/.venv/lib/python3.11/site-packages (from matplotlib) (4.47.2)\r\n",
      "Requirement already satisfied: kiwisolver>=1.3.1 in /home/nikola/projects/emma/.venv/lib/python3.11/site-packages (from matplotlib) (1.4.5)\r\n",
      "Requirement already satisfied: packaging>=20.0 in /home/nikola/projects/emma/.venv/lib/python3.11/site-packages (from matplotlib) (23.2)\r\n",
      "Requirement already satisfied: pillow>=8 in /home/nikola/projects/emma/.venv/lib/python3.11/site-packages (from matplotlib) (10.2.0)\r\n",
      "Requirement already satisfied: pyparsing>=2.3.1 in /home/nikola/projects/emma/.venv/lib/python3.11/site-packages (from matplotlib) (3.1.1)\r\n",
      "Requirement already satisfied: six>=1.5 in /home/nikola/projects/emma/.venv/lib/python3.11/site-packages (from python-dateutil>=2.8.2->pandas) (1.16.0)\r\n",
      "\r\n",
      "\u001B[1m[\u001B[0m\u001B[34;49mnotice\u001B[0m\u001B[1;39;49m]\u001B[0m\u001B[39;49m A new release of pip is available: \u001B[0m\u001B[31;49m24.1.1\u001B[0m\u001B[39;49m -> \u001B[0m\u001B[32;49m24.2\u001B[0m\r\n",
      "\u001B[1m[\u001B[0m\u001B[34;49mnotice\u001B[0m\u001B[1;39;49m]\u001B[0m\u001B[39;49m To update, run: \u001B[0m\u001B[32;49mpip install --upgrade pip\u001B[0m\r\n"
     ]
    }
   ],
   "execution_count": 8
  },
  {
   "metadata": {},
   "cell_type": "markdown",
   "source": "Recount to be sure",
   "id": "98f13d1b6a7b1d31"
  },
  {
   "metadata": {
    "ExecuteTime": {
     "end_time": "2024-08-05T10:23:44.905761Z",
     "start_time": "2024-08-05T10:23:44.898127Z"
    }
   },
   "cell_type": "code",
   "source": [
    "import os\n",
    "import ast\n",
    "import glob"
   ],
   "id": "b214b59c17ffd7a9",
   "outputs": [],
   "execution_count": 9
  },
  {
   "metadata": {
    "ExecuteTime": {
     "end_time": "2024-08-05T10:23:48.591658Z",
     "start_time": "2024-08-05T10:23:44.909561Z"
    }
   },
   "cell_type": "code",
   "source": [
    "dtype_spec = {\n",
    "    'sent': int,\n",
    "    'words': int,\n",
    "    'sp_tokens': int,\n",
    "    'tags_count': int\n",
    "}\n",
    "\n",
    "file_paths = glob.glob(os.path.join('..', '..', 'data', 'mulabel', 'raw', 'map_articles*.csv'))\n",
    "l_col = 'tags'\n",
    "\n",
    "file_paths = glob.glob(os.path.join('..', '..', 'data', 'mulabel', 'raw', 'mulabel_sl_p1_s1_article*.csv'))\n",
    "l_col = 'labels'\n",
    "\n",
    "file_paths = glob.glob(os.path.join('..', '..', 'data', 'mulabel', 'raw', 'eurlex*.csv'))\n",
    "l_col = 'ml_label'\n",
    "\n",
    "dfs = []\n",
    "for file in file_paths:\n",
    "    print(f'Reading file {file}')\n",
    "    tmp_df = pd.read_csv(file, dtype=dtype_spec)\n",
    "    tmp_df[l_col] = tmp_df[l_col].apply(ast.literal_eval)\n",
    "    dfs.append(tmp_df)\n",
    "\n",
    "article_df = pd.concat(dfs, ignore_index=True)\n",
    "# print(f'{article_df[\"lang\"].unique()}')\n",
    "\n",
    "print(f'Number of samples: {article_df.shape[0]}')\n",
    "print(f'And columns: {article_df.columns}')"
   ],
   "id": "d177c69c774a6ae2",
   "outputs": [
    {
     "name": "stdout",
     "output_type": "stream",
     "text": [
      "Reading file ../../data/mulabel/raw/eurlex.csv\n",
      "Number of samples: 57000\n",
      "And columns: Index(['text', 'ml_label'], dtype='object')\n"
     ]
    }
   ],
   "execution_count": 10
  },
  {
   "metadata": {
    "ExecuteTime": {
     "end_time": "2024-08-05T10:23:48.687076Z",
     "start_time": "2024-08-05T10:23:48.594010Z"
    }
   },
   "cell_type": "code",
   "source": [
    "from collections import Counter\n",
    "\n",
    "# Create a list of all tags\n",
    "all_tags = []\n",
    "for tags in article_df[l_col]:\n",
    "    all_tags.extend(tags)\n",
    "\n",
    "# Count the occurrences of each tag\n",
    "tag_counts = Counter(all_tags)\n",
    "\n",
    "# Construct the tag counts dataframe\n",
    "tag_dict = {'tag':[], 'count':[]}\n",
    "for label, count in tag_counts.items():\n",
    "    tag_dict['tag'].append(label)\n",
    "    tag_dict['count'].append(count)\n",
    "\n",
    "tag_df = pd.DataFrame(tag_dict).sort_values('tag', ascending=False)\n",
    "tag_df.head(10)"
   ],
   "id": "1aed708ff4030b8",
   "outputs": [
    {
     "data": {
      "text/plain": [
       "             tag  count\n",
       "1827  c_871b5612     24\n",
       "2635         999      1\n",
       "386          998     11\n",
       "912          997    157\n",
       "1183         996     32\n",
       "3022         995      7\n",
       "224          994    272\n",
       "1732         993      9\n",
       "674          990    109\n",
       "3163          99      5"
      ],
      "text/html": [
       "<div>\n",
       "<style scoped>\n",
       "    .dataframe tbody tr th:only-of-type {\n",
       "        vertical-align: middle;\n",
       "    }\n",
       "\n",
       "    .dataframe tbody tr th {\n",
       "        vertical-align: top;\n",
       "    }\n",
       "\n",
       "    .dataframe thead th {\n",
       "        text-align: right;\n",
       "    }\n",
       "</style>\n",
       "<table border=\"1\" class=\"dataframe\">\n",
       "  <thead>\n",
       "    <tr style=\"text-align: right;\">\n",
       "      <th></th>\n",
       "      <th>tag</th>\n",
       "      <th>count</th>\n",
       "    </tr>\n",
       "  </thead>\n",
       "  <tbody>\n",
       "    <tr>\n",
       "      <th>1827</th>\n",
       "      <td>c_871b5612</td>\n",
       "      <td>24</td>\n",
       "    </tr>\n",
       "    <tr>\n",
       "      <th>2635</th>\n",
       "      <td>999</td>\n",
       "      <td>1</td>\n",
       "    </tr>\n",
       "    <tr>\n",
       "      <th>386</th>\n",
       "      <td>998</td>\n",
       "      <td>11</td>\n",
       "    </tr>\n",
       "    <tr>\n",
       "      <th>912</th>\n",
       "      <td>997</td>\n",
       "      <td>157</td>\n",
       "    </tr>\n",
       "    <tr>\n",
       "      <th>1183</th>\n",
       "      <td>996</td>\n",
       "      <td>32</td>\n",
       "    </tr>\n",
       "    <tr>\n",
       "      <th>3022</th>\n",
       "      <td>995</td>\n",
       "      <td>7</td>\n",
       "    </tr>\n",
       "    <tr>\n",
       "      <th>224</th>\n",
       "      <td>994</td>\n",
       "      <td>272</td>\n",
       "    </tr>\n",
       "    <tr>\n",
       "      <th>1732</th>\n",
       "      <td>993</td>\n",
       "      <td>9</td>\n",
       "    </tr>\n",
       "    <tr>\n",
       "      <th>674</th>\n",
       "      <td>990</td>\n",
       "      <td>109</td>\n",
       "    </tr>\n",
       "    <tr>\n",
       "      <th>3163</th>\n",
       "      <td>99</td>\n",
       "      <td>5</td>\n",
       "    </tr>\n",
       "  </tbody>\n",
       "</table>\n",
       "</div>"
      ]
     },
     "execution_count": 11,
     "metadata": {},
     "output_type": "execute_result"
    }
   ],
   "execution_count": 11
  },
  {
   "metadata": {
    "ExecuteTime": {
     "end_time": "2024-08-05T10:23:48.693553Z",
     "start_time": "2024-08-05T10:23:48.688563Z"
    }
   },
   "cell_type": "code",
   "source": [
    "num_tags = tag_df.shape[0]\n",
    "print(num_tags)"
   ],
   "id": "4122f1610cc42084",
   "outputs": [
    {
     "name": "stdout",
     "output_type": "stream",
     "text": [
      "4271\n"
     ]
    }
   ],
   "execution_count": 12
  },
  {
   "metadata": {
    "ExecuteTime": {
     "end_time": "2024-08-05T10:23:49.560812Z",
     "start_time": "2024-08-05T10:23:48.695604Z"
    }
   },
   "cell_type": "code",
   "source": [
    "ocurr10_bins = [i for i in range(0, 200, 10)]\n",
    "ocurr10_histogram_counts = pd.cut(tag_df['count'], bins=ocurr10_bins).value_counts().sort_index()\n",
    "ocurr10_histogram_percentages = (ocurr10_histogram_counts / ocurr10_histogram_counts.sum()) * 100\n",
    "\n",
    "ocurr100_bins = [i for i in range(0, 3000, 100)]\n",
    "ocurr100_histogram_counts = pd.cut(tag_df['count'], bins=ocurr100_bins).value_counts().sort_index()\n",
    "ocurr100_histogram_percentages = (ocurr100_histogram_counts / ocurr100_histogram_counts.sum()) * 100\n",
    "\n",
    "ocurr1000_bins = [i for i in range(0, 20000, 1000)]\n",
    "ocurr1000_histogram_counts = pd.cut(tag_df['count'], bins=ocurr1000_bins).value_counts().sort_index()\n",
    "ocurr1000_histogram_percentages = (ocurr1000_histogram_counts / ocurr1000_histogram_counts.sum()) * 100\n",
    "\n",
    "fig, axs = plt.subplots(1, 3, figsize=(20, 5))  # 1 row, 2 columns\n",
    "ocurr10_histogram_percentages.plot(\n",
    "    ax=axs[0], kind='bar',\n",
    "    title='Histogram of Label Occurrences (10 scale)', \n",
    "    xlabel='Number of occurrences',\n",
    "    ylabel='Percentage of Labels'\n",
    ")\n",
    "axs[0].set_xticklabels(ocurr10_bins[1:])\n",
    "\n",
    "ocurr100_histogram_percentages.plot(\n",
    "    ax=axs[1], kind='bar', \n",
    "    title='Histogram of Label Occurrences (100 scale)', \n",
    "    xlabel='Number of occurrences',\n",
    "    ylabel='Percentage of Labels'\n",
    ")\n",
    "axs[1].set_xticklabels(ocurr100_bins[1:])\n",
    "\n",
    "ocurr1000_histogram_percentages.plot(\n",
    "    ax=axs[2], kind='bar', \n",
    "    title='Histogram of Label Occurrences (1000 scale)', \n",
    "    xlabel='Number of occurrences',\n",
    "    ylabel='Percentage of Labels'\n",
    ")\n",
    "axs[2].set_xticklabels(ocurr1000_bins[1:])\n",
    "plt.show()"
   ],
   "id": "532e5ea65f3e8e2",
   "outputs": [
    {
     "data": {
      "text/plain": [
       "<Figure size 2000x500 with 3 Axes>"
      ],
      "image/png": "[encoded data removed]"
     },
     "metadata": {},
     "output_type": "display_data"
    }
   ],
   "execution_count": 13
  },
  {
   "metadata": {},
   "cell_type": "markdown",
   "source": "Compute label density:",
   "id": "2eac8de4f9906a50"
  },
  {
   "metadata": {
    "ExecuteTime": {
     "end_time": "2024-08-05T10:23:49.782479Z",
     "start_time": "2024-08-05T10:23:49.562657Z"
    }
   },
   "cell_type": "code",
   "source": [
    "num_tags = tag_df.shape[0]\n",
    "num_samples = article_df.shape[0]\n",
    "tags_diversity = {} \n",
    "sum_tags_per_sample = 0\n",
    "sum_tags_over_all = 0\n",
    "sample_tag_counts = []\n",
    "for tags in article_df[l_col]:\n",
    "    sum_tags_per_sample += len(tags)\n",
    "    sample_tag_counts.append(len(tags))\n",
    "    sum_tags_over_all += (len(tags) / num_tags)\n",
    "    tags_s = str(sorted(set(tags)))\n",
    "    if not tags_s in tags_diversity:\n",
    "        tags_diversity[tags_s] = 1\n",
    "    else:\n",
    "        tags_diversity[tags_s] += 1\n",
    "    \n",
    "label_density = sum_tags_over_all / num_samples\n",
    "label_cardinality = sum_tags_per_sample / num_samples\n",
    "label_diversity = len(tags_diversity)\n",
    "    \n",
    "\n",
    "print(f'Label density: {label_density}')\n",
    "print(f'Label cardinality: {label_cardinality}')\n",
    "print(f'Label diversity: {label_diversity}')\n",
    "\n",
    "std_dev_cols = np.std(sample_tag_counts, axis=0)\n",
    "mean_cols = np.mean(sample_tag_counts, axis=0)\n",
    "print(f\"Mean {mean_cols} Standard deviation {std_dev_cols} along columns:\")\n"
   ],
   "id": "c3c00edbfebfe197",
   "outputs": [
    {
     "name": "stdout",
     "output_type": "stream",
     "text": [
      "Label density: 0.00118677987405807\n",
      "Label cardinality: 5.068736842105263\n",
      "Label diversity: 34982\n",
      "Mean 5.068736842105263 Standard deviation 1.7006948479476385 along columns:\n"
     ]
    }
   ],
   "execution_count": 14
  }
 ],
 "metadata": {
  "kernelspec": {
   "display_name": "Python 3",
   "language": "python",
   "name": "python3"
  },
  "language_info": {
   "codemirror_mode": {
    "name": "ipython",
    "version": 2
   },
   "file_extension": ".py",
   "mimetype": "text/x-python",
   "name": "python",
   "nbconvert_exporter": "python",
   "pygments_lexer": "ipython2",
   "version": "2.7.6"
  }
 },
 "nbformat": 4,
 "nbformat_minor": 5
}
