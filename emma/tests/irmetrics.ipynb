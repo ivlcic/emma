{
 "cells": [
  {
   "cell_type": "code",
   "id": "initial_id",
   "metadata": {
    "collapsed": true,
    "ExecuteTime": {
     "end_time": "2024-08-14T09:55:41.013453Z",
     "start_time": "2024-08-14T09:55:41.006884Z"
    }
   },
   "source": "import numpy as np",
   "outputs": [],
   "execution_count": 12
  },
  {
   "metadata": {
    "ExecuteTime": {
     "end_time": "2024-08-14T09:55:41.041803Z",
     "start_time": "2024-08-14T09:55:41.027674Z"
    }
   },
   "cell_type": "code",
   "source": [
    "def recall_at_k(y_true, y_pred, k):\n",
    "    \"\"\"\n",
    "    Compute Recall@K for multiple samples.\n",
    "    \n",
    "    Args:\n",
    "    y_true: 2D array of true relevance labels, shape (n_samples, n_labels)\n",
    "    y_pred: 2D array of predicted scores or probabilities, shape (n_samples, n_labels)\n",
    "    k: The number of top items to consider for Recall@K\n",
    "    \n",
    "    Returns:\n",
    "    Array of Recall@K scores for each sample and the mean Recall@K.\n",
    "    \"\"\"\n",
    "    n_samples = y_true.shape[0]\n",
    "    recalls = np.zeros(n_samples)\n",
    "    \n",
    "    for i in range(n_samples):\n",
    "        # Total number of relevant items for this sample\n",
    "        total_relevant = np.sum(y_true[i])\n",
    "        print(f'r:{total_relevant}')\n",
    "        total_relevant = min(total_relevant, k)\n",
    "        print(f'min(r,k):{total_relevant}')\n",
    "        # Get top K indices for this sample\n",
    "        top_k_indices = np.argsort(y_pred[i])[::-1][:k]\n",
    "        \n",
    "        # Count relevant items in top K\n",
    "        relevant_in_k = np.sum(y_true[i][top_k_indices])\n",
    "        \n",
    "        # Compute Recall@K for this sample\n",
    "        if total_relevant > 0:\n",
    "            recalls[i] = relevant_in_k / total_relevant\n",
    "        else:\n",
    "            recalls[i] = 0  # If no relevant items, recall is 0\n",
    "    \n",
    "    # Compute mean Recall@K\n",
    "    mean_recall = np.mean(recalls)\n",
    "    \n",
    "    return recalls, mean_recall\n"
   ],
   "id": "386e690f11c308b",
   "outputs": [],
   "execution_count": 13
  },
  {
   "metadata": {
    "ExecuteTime": {
     "end_time": "2024-08-14T09:55:41.082236Z",
     "start_time": "2024-08-14T09:55:41.065141Z"
    }
   },
   "cell_type": "code",
   "source": [
    "# Example usage\n",
    "y_true = np.array([\n",
    "    [1, 0, 1, 1, 0, 1, 0],\n",
    "    [1, 1, 0, 0, 1, 0, 1],\n",
    "    [0, 1, 1, 1, 0, 0, 1],\n",
    "    [0, 0, 0, 1, 0, 0, 1]\n",
    "])\n",
    "y_pred = np.array([\n",
    "    [0.9, 0.8, 0.7, 0.6, 0.5, 0.4, 0.3],\n",
    "    [0.1, 0.2, 0.3, 0.4, 0.5, 0.6, 0.7],\n",
    "    [0.3, 0.6, 0.2, 0.7, 0.1, 0.9, 0.5],\n",
    "    [0.3, 0.6, 0.2, 0.7, 0.1, 0.9, 0.9]\n",
    "])\n",
    "\n",
    "# Compute Recall@3 and Recall@5\n",
    "k_values = [3, 5]\n",
    "\n",
    "for k in k_values:\n",
    "    recalls, mean_recall = recall_at_k(y_true, y_pred, k)\n",
    "    print(f\"\\nRecall@{k}:\")\n",
    "    for i, recall in enumerate(recalls):\n",
    "        print(f\"Sample {i+1}: {recall:.4f}\")\n",
    "    print(f\"Mean Recall@{k}: {mean_recall:.4f}\")"
   ],
   "id": "e6993eff97f32483",
   "outputs": [
    {
     "name": "stdout",
     "output_type": "stream",
     "text": [
      "r:4\n",
      "min(r,k):3\n",
      "r:4\n",
      "min(r,k):3\n",
      "r:4\n",
      "min(r,k):3\n",
      "r:2\n",
      "min(r,k):2\n",
      "\n",
      "Recall@3:\n",
      "Sample 1: 0.6667\n",
      "Sample 2: 0.6667\n",
      "Sample 3: 0.6667\n",
      "Sample 4: 1.0000\n",
      "Mean Recall@3: 0.7500\n",
      "r:4\n",
      "min(r,k):4\n",
      "r:4\n",
      "min(r,k):4\n",
      "r:4\n",
      "min(r,k):4\n",
      "r:2\n",
      "min(r,k):2\n",
      "\n",
      "Recall@5:\n",
      "Sample 1: 0.7500\n",
      "Sample 2: 0.5000\n",
      "Sample 3: 0.7500\n",
      "Sample 4: 1.0000\n",
      "Mean Recall@5: 0.7500\n"
     ]
    }
   ],
   "execution_count": 14
  }
 ],
 "metadata": {
  "kernelspec": {
   "display_name": "Python 3",
   "language": "python",
   "name": "python3"
  },
  "language_info": {
   "codemirror_mode": {
    "name": "ipython",
    "version": 2
   },
   "file_extension": ".py",
   "mimetype": "text/x-python",
   "name": "python",
   "nbconvert_exporter": "python",
   "pygments_lexer": "ipython2",
   "version": "2.7.6"
  }
 },
 "nbformat": 4,
 "nbformat_minor": 5
}
