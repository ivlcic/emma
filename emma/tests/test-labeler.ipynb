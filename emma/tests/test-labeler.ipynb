{
 "cells": [
  {
   "cell_type": "code",
   "id": "initial_id",
   "metadata": {
    "collapsed": true,
    "ExecuteTime": {
     "end_time": "2024-08-23T10:43:30.111273Z",
     "start_time": "2024-08-23T10:43:30.095525Z"
    }
   },
   "source": [
    "from core.labels import MultilabelLabeler\n",
    "\n",
    "labeler = MultilabelLabeler()\n",
    "labeler.collect(['B', 'A'])\n",
    "labeler.collect(['B', 'C'])\n",
    "labeler.collect(['A'])\n",
    "labeler.collect(['D', 'E', 'F'])\n",
    "\n",
    "labeler.fit()"
   ],
   "outputs": [],
   "execution_count": 10
  },
  {
   "metadata": {
    "ExecuteTime": {
     "end_time": "2024-08-23T10:43:30.139690Z",
     "start_time": "2024-08-23T10:43:30.129637Z"
    }
   },
   "cell_type": "code",
   "source": "print(labeler.vectorize(['A', 'B']))",
   "id": "d6088ff5d029f7d5",
   "outputs": [
    {
     "name": "stdout",
     "output_type": "stream",
     "text": [
      "[[1 0 0 0 0 0]\n",
      " [0 1 0 0 0 0]]\n"
     ]
    }
   ],
   "execution_count": 11
  },
  {
   "metadata": {
    "ExecuteTime": {
     "end_time": "2024-08-23T10:43:30.155167Z",
     "start_time": "2024-08-23T10:43:30.147461Z"
    }
   },
   "cell_type": "code",
   "source": "print(labeler.vectorize(['A', 'F']))",
   "id": "6440c39cc61f8995",
   "outputs": [
    {
     "name": "stdout",
     "output_type": "stream",
     "text": [
      "[[1 0 0 0 0 0]\n",
      " [0 0 0 0 0 1]]\n"
     ]
    }
   ],
   "execution_count": 12
  },
  {
   "metadata": {
    "ExecuteTime": {
     "end_time": "2024-08-23T10:43:30.256472Z",
     "start_time": "2024-08-23T10:43:30.173084Z"
    }
   },
   "cell_type": "code",
   "source": [
    "import numpy as np\n",
    "from sklearn.metrics import ndcg_score\n",
    "\n",
    "# Sample true labels (ground truth)\n",
    "y_true = np.array([\n",
    "    [1, 0, 1, 0],\n",
    "    [0, 1, 1, 1],\n",
    "    [1, 1, 0, 1]\n",
    "])\n",
    "\n",
    "# Sample predicted scores\n",
    "y_score = np.array([\n",
    "    [0.9, 0.2, 0.8, 0.1],\n",
    "    [0.1, 0.7, 0.9, 0.5],\n",
    "    [0.8, 0.9, 0.3, 0.6]\n",
    "])\n",
    "\n",
    "# Compute nDCG for each sample\n",
    "ndcg_scores = []\n",
    "for i in range(y_true.shape[0]):\n",
    "    score = ndcg_score(y_true[i:i+1], y_score[i:i+1])\n",
    "    ndcg_scores.append(score)\n",
    "\n",
    "# Calculate average nDCG\n",
    "average_ndcg = np.mean(ndcg_scores)\n",
    "\n",
    "print(\"nDCG scores for each sample:\", ndcg_scores)\n",
    "print(\"Average nDCG:\", average_ndcg)\n",
    "\n",
    "# Compute nDCG for the entire dataset\n",
    "overall_ndcg = ndcg_score(y_true, y_score)\n",
    "print(\"Overall nDCG:\", overall_ndcg)"
   ],
   "id": "2a0aadd536d6bb0a",
   "outputs": [
    {
     "name": "stdout",
     "output_type": "stream",
     "text": [
      "nDCG scores for each sample: [1.0, 1.0, 1.0]\n",
      "Average nDCG: 1.0\n",
      "Overall nDCG: 1.0\n"
     ]
    }
   ],
   "execution_count": 13
  }
 ],
 "metadata": {
  "kernelspec": {
   "display_name": "Python 3",
   "language": "python",
   "name": "python3"
  },
  "language_info": {
   "codemirror_mode": {
    "name": "ipython",
    "version": 2
   },
   "file_extension": ".py",
   "mimetype": "text/x-python",
   "name": "python",
   "nbconvert_exporter": "python",
   "pygments_lexer": "ipython2",
   "version": "2.7.6"
  }
 },
 "nbformat": 4,
 "nbformat_minor": 5
}
