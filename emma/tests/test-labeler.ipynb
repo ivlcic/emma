{
 "cells": [
  {
   "cell_type": "code",
   "id": "initial_id",
   "metadata": {
    "collapsed": true,
    "ExecuteTime": {
     "end_time": "2024-08-09T08:49:25.722325Z",
     "start_time": "2024-08-09T08:49:25.713286Z"
    }
   },
   "source": [
    "from core.labels import MultilabelLabeler\n",
    "\n",
    "labeler = MultilabelLabeler()\n",
    "labeler.collect(['B', 'A'])\n",
    "labeler.collect(['B', 'C'])\n",
    "labeler.collect(['A'])\n",
    "labeler.collect(['D', 'E', 'F'])\n",
    "\n",
    "labeler.fit()"
   ],
   "outputs": [],
   "execution_count": 7
  },
  {
   "metadata": {
    "ExecuteTime": {
     "end_time": "2024-08-09T08:49:25.745743Z",
     "start_time": "2024-08-09T08:49:25.726595Z"
    }
   },
   "cell_type": "code",
   "source": "print(labeler.vectorize(['A', 'B']))",
   "id": "d6088ff5d029f7d5",
   "outputs": [
    {
     "name": "stdout",
     "output_type": "stream",
     "text": [
      "[[1 0 0 0 0 0]\n",
      " [0 1 0 0 0 0]]\n"
     ]
    }
   ],
   "execution_count": 8
  },
  {
   "metadata": {
    "ExecuteTime": {
     "end_time": "2024-08-09T08:49:25.762127Z",
     "start_time": "2024-08-09T08:49:25.748980Z"
    }
   },
   "cell_type": "code",
   "source": "print(labeler.vectorize(['A', 'F']))",
   "id": "6440c39cc61f8995",
   "outputs": [
    {
     "name": "stdout",
     "output_type": "stream",
     "text": [
      "[[1 0 0 0 0 0]\n",
      " [0 0 0 0 0 1]]\n"
     ]
    }
   ],
   "execution_count": 9
  }
 ],
 "metadata": {
  "kernelspec": {
   "display_name": "Python 3",
   "language": "python",
   "name": "python3"
  },
  "language_info": {
   "codemirror_mode": {
    "name": "ipython",
    "version": 2
   },
   "file_extension": ".py",
   "mimetype": "text/x-python",
   "name": "python",
   "nbconvert_exporter": "python",
   "pygments_lexer": "ipython2",
   "version": "2.7.6"
  }
 },
 "nbformat": 4,
 "nbformat_minor": 5
}
